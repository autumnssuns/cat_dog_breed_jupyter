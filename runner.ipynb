{
 "cells": [
  {
   "cell_type": "markdown",
   "id": "c830be93-833a-44e5-baa9-3a32eb98c6c3",
   "metadata": {},
   "source": [
    "## Preparing Modules"
   ]
  },
  {
   "cell_type": "code",
   "execution_count": 1,
   "id": "22c3a91e-c505-41d8-b2d2-bd682e4ea816",
   "metadata": {},
   "outputs": [],
   "source": [
    "import sys\n",
    "import subprocess\n",
    "from pathlib import Path\n",
    "\n",
    "# https://stackoverflow.com/questions/68154312/check-if-module-is-installed-in-jupyter-rather-than-in-kernel\n",
    "def is_installed(pkg_name):\n",
    "    pip = Path(sys.base_prefix).joinpath('bin', 'pip')  # Linux\n",
    "    # pip = Path(sys.base_prefix).joinpath('Scripts', 'pip.exe')  # Windows\n",
    "    proc = subprocess.Popen(\n",
    "        [pip.as_posix(), 'list'], \n",
    "        stdout=subprocess.PIPE,\n",
    "        stderr=subprocess.PIPE\n",
    "    )\n",
    "    out, err = proc.communicate()\n",
    "    packages = out.decode().lower().split('\\n')[2:]\n",
    "    packages = [pkg.split()[0].strip() for pkg in packages if pkg]\n",
    "    return pkg_name.lower() in packages"
   ]
  },
  {
   "cell_type": "code",
   "execution_count": 2,
   "id": "00c4d6a7-2105-49b8-8854-4a846bd71b04",
   "metadata": {},
   "outputs": [],
   "source": [
    "import tensorflow as tf\n",
    "import matplotlib.pyplot as plt\n",
    "import numpy as np\n",
    "from PIL import Image\n",
    "from IPython.display import display, HTML\n",
    "from os import getcwd\n",
    "if not is_installed(\"ipyfilechooser\"):\n",
    "    !{sys.executable} -m pip install ipyfilechooser\n",
    "from ipyfilechooser import FileChooser\n",
    "import ipywidgets as widgets\n",
    "import requests\n",
    "import io\n",
    "import imageio\n",
    "import os"
   ]
  },
  {
   "cell_type": "markdown",
   "id": "45246bdd-e949-49fe-9a03-ec4ef4c55703",
   "metadata": {},
   "source": [
    "## Import the Classification Model"
   ]
  },
  {
   "cell_type": "code",
   "execution_count": 3,
   "id": "e80e9480-ce0a-4708-a10b-2ec65650c9ae",
   "metadata": {},
   "outputs": [
    {
     "name": "stderr",
     "output_type": "stream",
     "text": [
      "2022-08-06 02:46:26.398936: I tensorflow/core/platform/cpu_feature_guard.cc:151] This TensorFlow binary is optimized with oneAPI Deep Neural Network Library (oneDNN) to use the following CPU instructions in performance-critical operations:  SSE4.1 SSE4.2 AVX AVX2 AVX512F FMA\n",
      "To enable them in other operations, rebuild TensorFlow with the appropriate compiler flags.\n"
     ]
    }
   ],
   "source": [
    "import classifier\n",
    "%load_ext autoreload\n",
    "%autoreload\n",
    "filename = \"efficientnetv2b0_feature_extract_transfer.h5\"\n",
    "target_size = (128, 128, 3)\n",
    "classifier = classifier.SimpleClassifier(filename, target_size)\n",
    "classifier.set_labels(\"labels.txt\")"
   ]
  },
  {
   "cell_type": "code",
   "execution_count": 4,
   "id": "f3a329a6-2724-4656-858c-ce901eef39e9",
   "metadata": {},
   "outputs": [],
   "source": [
    "def resize(image, target_size=(128,128), pad=False, method=\"bilinear\"):\n",
    "    return tf.image.resize(image,target_size,method=method).numpy()\n",
    "\n",
    "def predict(resized_img, classes_dict = None):\n",
    "    return classifier.predict(resized_img)\n",
    "    \n",
    "def predict_from_byte(image_data):\n",
    "    image = np.array(Image.open(io.BytesIO(image_data)).convert(\"RGB\")) / 255.0\n",
    "    display_result(image)"
   ]
  },
  {
   "cell_type": "code",
   "execution_count": 5,
   "id": "0865ead7-5ae4-4238-9234-609794387c1e",
   "metadata": {},
   "outputs": [],
   "source": [
    "# Prepare directories\n",
    "if not os.path.exists(\"Images\"):\n",
    "    os.mkdir(\"Images\")\n",
    "if not os.path.exists(\"Images/Correct\"):\n",
    "    os.mkdir(\"Images/Correct\")\n",
    "if not os.path.exists(\"Images/Incorrect\"):\n",
    "    os.mkdir(\"Images/Incorrect\")"
   ]
  },
  {
   "cell_type": "markdown",
   "id": "e0359962-6824-43db-9d9c-14ec5be4e894",
   "metadata": {},
   "source": [
    "## Helper Functions and Display"
   ]
  },
  {
   "cell_type": "code",
   "execution_count": 6,
   "id": "0d48ce80-0328-487c-9f7c-c523b4ded8a7",
   "metadata": {},
   "outputs": [],
   "source": [
    "out = widgets.Output(layout={'border': '1px solid black'})\n",
    "with out:\n",
    "    display(HTML(\"<h2>Prediction Result</h2>\"))"
   ]
  },
  {
   "cell_type": "code",
   "execution_count": 7,
   "id": "667f508f-a397-472b-9825-cbdc66263c2e",
   "metadata": {},
   "outputs": [],
   "source": [
    "def check_correctness_interface(source_image, prediction):\n",
    "    label = widgets.Output()\n",
    "    with label:\n",
    "        display(HTML(\"Is the above prediction correct?\"))\n",
    "    correct = widgets.Button(description = \"Correct\", button_style = \"success\", icon = \"check\")\n",
    "    incorrect = widgets.Button(description = \"Incorrect\", button_style = \"danger\", icon = \"times\")\n",
    "    buttons = [correct, incorrect]\n",
    "    correct.on_click(lambda sender: check_correctness(True, source_image, prediction, buttons))\n",
    "    incorrect.on_click(lambda sender: check_correctness(False, source_image, prediction, buttons))\n",
    "    display(label, widgets.HBox([correct, incorrect]))\n",
    "\n",
    "def display_result(source_image):\n",
    "    resized_img = resize(source_image)\n",
    "    fig, (ax1, ax2) = plt.subplots(1, 2)\n",
    "    ax1.imshow(source_image)\n",
    "    ax1.set_title(\"Original Image\")\n",
    "    ax2.imshow(resized_img)\n",
    "    ax2.set_title(\"Resized Image\")\n",
    "    plt.show()\n",
    "    prediction = predict(resized_img)\n",
    "    display(HTML(\"<b>Prediction: <span style=\\\"background-color:#00407a; color:white;\\\">%s</span></b>\" % (prediction)))\n",
    "    check_correctness_interface(source_image, prediction)"
   ]
  },
  {
   "cell_type": "code",
   "execution_count": 8,
   "id": "ee7ca8e9-64ae-461f-9252-d0e538cba30a",
   "metadata": {},
   "outputs": [],
   "source": [
    "def save_image(path, source_image, button = None):\n",
    "    idx = 1\n",
    "    while os.path.exists(path.replace(\".\", \"_%d.\" % (idx))):\n",
    "        idx += 1\n",
    "    imageio.imwrite(path.replace(\".\", \"_%d.\" % (idx)), source_image)\n",
    "    if button is not None:\n",
    "        button.disabled = True"
   ]
  },
  {
   "cell_type": "code",
   "execution_count": 9,
   "id": "9569c1e1-4f47-4ce5-b666-3698fdf3c248",
   "metadata": {},
   "outputs": [],
   "source": [
    "@out.capture(clear_output=False)\n",
    "def check_correctness(correct, source_image, label, buttons):\n",
    "    for b in buttons:\n",
    "        b.disabled = True\n",
    "    if correct:\n",
    "        save_image(\"Images/Correct/\" + label + \".jpg\", source_image)\n",
    "    else:\n",
    "        display(HTML(\"<b>Please indicate the correct breed name:</b>\"))\n",
    "        text = widgets.Text(placeholder=\"Correct breed name\")\n",
    "        button = widgets.Button(button_style=\"success\", icon=\"check\")\n",
    "        button.on_click(lambda sender: save_image(\"Images/Incorrect/\" + text.value + \".jpg\", source_image, button))\n",
    "        display(widgets.HBox([text, button]))"
   ]
  },
  {
   "cell_type": "code",
   "execution_count": 10,
   "id": "d1d774f3-69b0-403d-970c-e52d58526561",
   "metadata": {},
   "outputs": [],
   "source": [
    "@out.capture(clear_output=True)\n",
    "def predict_from_url(url):\n",
    "    print(\"Predicting from URL...\" + url)\n",
    "    try:\n",
    "        r = requests.get(url, stream=True)\n",
    "        content_type, extension = r.headers.get('content-type').split(\"/\")\n",
    "        if content_type == 'image':\n",
    "            r.raw.decode_content = True\n",
    "            image_data = r.content\n",
    "            predict_from_byte(image_data)\n",
    "    except:\n",
    "        print(\"Cannot Retreive Image\")\n",
    "        \n",
    "@out.capture(clear_output=True)\n",
    "def predict_from_upload(image_data, name):\n",
    "    print(\"Predicting from the uploaded file: %s\" % (name))\n",
    "    predict_from_byte(image_data)\n",
    "    \n",
    "@out.capture(clear_output=True)\n",
    "def predict_from_uploaded_images(chooser):\n",
    "    path = chooser.selected\n",
    "    img = np.array(Image.open(path).convert(\"RGB\")) / 255.0\n",
    "    display_result(img)"
   ]
  },
  {
   "cell_type": "code",
   "execution_count": 12,
   "id": "8295f043-a36a-4a3e-8c6a-6f7f968748fd",
   "metadata": {},
   "outputs": [
    {
     "data": {
      "application/vnd.jupyter.widget-view+json": {
       "model_id": "2fbd4ff49b3b4c5eb36fd692edb7bd5a",
       "version_major": 2,
       "version_minor": 0
      },
      "text/plain": [
       "Output(layout=Layout(border='1px solid black'), outputs=({'output_type': 'display_data', 'data': {'text/plain'…"
      ]
     },
     "metadata": {},
     "output_type": "display_data"
    },
    {
     "data": {
      "application/vnd.jupyter.widget-view+json": {
       "model_id": "369ef2d21ad24343ad5f2bcd03116ed0",
       "version_major": 2,
       "version_minor": 0
      },
      "text/plain": [
       "Output()"
      ]
     },
     "metadata": {},
     "output_type": "display_data"
    },
    {
     "data": {
      "application/vnd.jupyter.widget-view+json": {
       "model_id": "18d293b01d254bf08b5a6e84792124ee",
       "version_major": 2,
       "version_minor": 0
      },
      "text/plain": [
       "Tab(children=(VBox(children=(Textarea(value=''), Button(button_style='success', description='Submit', style=Bu…"
      ]
     },
     "metadata": {},
     "output_type": "display_data"
    }
   ],
   "source": [
    "# Textarea + Submit Button\n",
    "text = widgets.Textarea()\n",
    "submit_button = widgets.Button(description=\"Submit\", button_style='success')\n",
    "submit_button.on_click(lambda sender: predict_from_url(text.value))\n",
    "# File Upload\n",
    "upload = widgets.FileUpload(accept='.png, .jpg, .jpeg')\n",
    "upload.observe(lambda sender: predict_from_upload(upload.data[0], list(upload.value.keys())[0]), names=['data'])\n",
    "# FileChooser\n",
    "fc = FileChooser(getcwd())\n",
    "fc.filter_pattern = ['*.jpg', '*.png', '*.jpeg']\n",
    "fc.register_callback(predict_from_uploaded_images)\n",
    "# Prompt Label\n",
    "label = widgets.Output()\n",
    "with label:\n",
    "    display(HTML(\"<h2>Select an image using one of these options</h2>\"))\n",
    "# Create tabs\n",
    "titles = [\"From URL\", \"Upload an Image\", \"Use Uploaded Images\"]\n",
    "tabs = widgets.Tab()\n",
    "tabs.children = [widgets.VBox([text, submit_button]), upload, fc]\n",
    "for i in range(len(titles)):\n",
    "    tabs.set_title(i, titles[i])\n",
    "display(out, label, tabs)"
   ]
  }
 ],
 "metadata": {
  "kernelspec": {
   "display_name": "Python 3 (ipykernel)",
   "language": "python",
   "name": "python3"
  },
  "language_info": {
   "codemirror_mode": {
    "name": "ipython",
    "version": 3
   },
   "file_extension": ".py",
   "mimetype": "text/x-python",
   "name": "python",
   "nbconvert_exporter": "python",
   "pygments_lexer": "ipython3",
   "version": "3.9.13"
  }
 },
 "nbformat": 4,
 "nbformat_minor": 5
}
